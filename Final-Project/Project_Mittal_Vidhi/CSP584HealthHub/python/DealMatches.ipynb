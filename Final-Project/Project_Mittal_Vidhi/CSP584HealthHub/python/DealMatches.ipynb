d{
 "cells": [
  {
   "cell_type": "raw",
   "metadata": {
    "raw_mimetype": "text/x-python"
   },
   "source": [
    "\n",
    "Learn how to connect to social media network (we will use Twitter as example in this assignment), and collect/preprocess/analyze its data\n",
    "\n",
    "\n",
    "Tweets Data Can be used for different purposes by marketing department and data analytics team. For example:\n",
    "\n",
    "- Compete with rivals to offer price-match gaurantee policy\n",
    "- Offer same coupons like rivals in the market place\n",
    "\n"
   ]
  },
  {
   "cell_type": "raw",
   "metadata": {},
   "source": [
    "For this assignment you need to do the following setup first:\n",
    "\n",
    "1.  Create an account on twitter.com.\n",
    "\n",
    "2.  Generate authentication tokens by following the instructions here : \n",
    "    https://dev.twitter.com/oauth/overview/application-owner-access-tokens\n",
    "\n",
    "3.  Add your tokens to the credentials.txt file.\n",
    "\n",
    "\n"
   ]
  },
  {
   "cell_type": "raw",
   "metadata": {},
   "source": [
    "Twitter API\n",
    "\n",
    "Two APIs:\n",
    "\n",
    "    REST API: Submit HTTP requests to access specific information (tweets, friends, ...)\n",
    "    Streaming API: Open a continuous connection to Twitter to receive real-time data.\n",
    "\n",
    "These APIs are  HTTP GET request\n",
    "\n",
    "\n",
    "\n",
    "\n",
    "Here are the twitter API docs that you must familiarize yourself with\n",
    "\n",
    "https://dev.twitter.com/rest/reference/get/followers/ids\n",
    "\n",
    "https://dev.twitter.com/overview/api/twitter-libraries\n",
    "\n"
   ]
  },
  {
   "cell_type": "raw",
   "metadata": {},
   "source": [
    "When you search in a text (tweets are text messages), often you need to be aware of something STOP WORDS.\n",
    "You could read more about stop-words here:\n",
    " \n",
    "    https://en.wikipedia.org/wiki/Stop_words\n",
    "    "
   ]
  },
  {
   "cell_type": "code",
   "execution_count": 424,
   "metadata": {},
   "outputs": [],
   "source": [
    "from TwitterAPI import TwitterAPI, TwitterOAuth, TwitterPager\n"
   ]
  },
  {
   "cell_type": "code",
   "execution_count": 425,
   "metadata": {},
   "outputs": [],
   "source": [
    "o = TwitterOAuth.read_file(r'C:\\Users\\uee85\\CSP584HealthHub\\WebContent\\data\\credentials.txt')"
   ]
  },
  {
   "cell_type": "code",
   "execution_count": 426,
   "metadata": {},
   "outputs": [
    {
     "output_type": "execute_result",
     "data": {
      "text/plain": [
       "'1327736994395512836-kgUKCrAU5UawsyWVxKp7aqXHVoMlwF'"
      ]
     },
     "metadata": {},
     "execution_count": 426
    }
   ],
   "source": [
    "o.access_token_key"
   ]
  },
  {
   "cell_type": "code",
   "execution_count": 427,
   "metadata": {},
   "outputs": [],
   "source": [
    "# Using OAuth1...\n",
    "twitter = TwitterAPI(o.consumer_key,\n",
    "                 o.consumer_secret,\n",
    "                 o.access_token_key,\n",
    "                 o.access_token_secret)"
   ]
  },
  {
   "cell_type": "code",
   "execution_count": 428,
   "metadata": {},
   "outputs": [
    {
     "output_type": "execute_result",
     "data": {
      "text/plain": [
       "<requests_oauthlib.oauth1_auth.OAuth1 at 0x19e8fd43c48>"
      ]
     },
     "metadata": {},
     "execution_count": 428
    }
   ],
   "source": [
    "twitter.auth"
   ]
  },
  {
   "cell_type": "code",
   "execution_count": 429,
   "metadata": {
    "tags": []
   },
   "outputs": [
    {
     "output_type": "stream",
     "name": "stdout",
     "text": [
      "got 200 tweets for user amazondeals\n{'id': 1922861, 'id_str': '1922861', 'name': 'Amazon.com Deals', 'screen_name': 'amazondeals', 'location': 'Seattle, Washington', 'description': 'Gold Box: New Deals. Every Day. Officially supported by http://t.co/FS90NXQ4b9.', 'url': 'http://t.co/ccIwm1ysWz', 'entities': {'url': {'urls': [{'url': 'http://t.co/ccIwm1ysWz', 'expanded_url': 'http://www.amazon.com/goldbox', 'display_url': 'amazon.com/goldbox', 'indices': [0, 22]}]}, 'description': {'urls': [{'url': 'http://t.co/FS90NXQ4b9', 'expanded_url': 'http://Amazon.com', 'display_url': 'Amazon.com', 'indices': [56, 78]}]}}, 'protected': False, 'followers_count': 587952, 'friends_count': 41, 'listed_count': 7457, 'created_at': 'Thu Mar 22 18:50:49 +0000 2007', 'favourites_count': 10, 'utc_offset': None, 'time_zone': None, 'geo_enabled': False, 'verified': True, 'statuses_count': 36272, 'lang': None, 'contributors_enabled': False, 'is_translator': False, 'is_translation_enabled': False, 'profile_background_color': 'FFFFFF', 'profile_background_image_url': 'http://abs.twimg.com/images/themes/theme1/bg.png', 'profile_background_image_url_https': 'https://abs.twimg.com/images/themes/theme1/bg.png', 'profile_background_tile': False, 'profile_image_url': 'http://pbs.twimg.com/profile_images/446066314017120256/MYNhM07P_normal.png', 'profile_image_url_https': 'https://pbs.twimg.com/profile_images/446066314017120256/MYNhM07P_normal.png', 'profile_banner_url': 'https://pbs.twimg.com/profile_banners/1922861/1398271076', 'profile_link_color': '003399', 'profile_sidebar_border_color': 'FF9900', 'profile_sidebar_fill_color': 'FFCC55', 'profile_text_color': '000000', 'profile_use_background_image': False, 'has_extended_profile': False, 'default_profile': False, 'default_profile_image': False, 'following': False, 'follow_request_sent': False, 'notifications': False, 'translator_type': 'none'}\n"
     ]
    }
   ],
   "source": [
    "# Get BestBuyDeals timeline = ''\n",
    "screen_name = 'amazondeals'\n",
    "timeline = [tweet for tweet in twitter.request('statuses/user_timeline',\n",
    "                                                {'screen_name': screen_name,\n",
    "                                                 'count': 200})]\n",
    "print('got %d tweets for user %s' % (len(timeline), screen_name))\n",
    "print(timeline[0]['user'])"
   ]
  },
  {
   "cell_type": "code",
   "execution_count": 430,
   "metadata": {
    "tags": [
     "outputPrepend"
    ]
   },
   "outputs": [
    {
     "output_type": "stream",
     "name": "stdout",
     "text": [
      "al! $349.95 - Ricky Williams, Vince Young, Colt McCoy and Earl Campbell https://t.co/pv3pkKenw8\n\nLightning Deal! $233.64 - Gskyer Telescope, EQ901000 Astronomy Telescope, German Technology Refractor Telescope https://t.co/eaYtIOoZsq\n\nLightning Deal! $99.99 - ITRUE X6D Dual Car Dash Cam Pro Stealth Full-HD 1080P 170°Wide Angle, Night Mode, G-Sensor, https://t.co/M2ClWwBL5y\n\nLightning Deal! $89.99 - Whole House FM Transmitter 3.0 https://t.co/2r9QBAhBdg\n\nLightning Deal! $106.24 - REXING S300 1080P 170 Degree Wide Angle Night Vision Dash Cam Pro with 16GB MicroSD Card https://t.co/bs39vELvNv\n\nLightning Deal! [$479.99 - $577.99] - Samsung QN55Q8C Curved 4K Ultra HD Smart QLED TV https://t.co/rTwMqJFGT7\n\nLightning Deal! $239.99 - X-Treme Gate XG-001 Black Professional Grade Slide-Out Truck Bed Extender https://t.co/2X21E4GuK1\n\nLightning Deal! [$201.74 - $299.25] - LED Flood Light warm white https://t.co/w6ETuBpngV\n\nLightning Deal! $279.00 - JBL Studio 550P 10-Inch Powered Subwoofer https://t.co/8FnFgIJATn\n\nLightning Deal! [$169.99 - $195.49] - Iblue Genuine Leather Weekender Overnight Bag Travel Luggage Gym Totes #B001 https://t.co/xEMUPHjJqZ\n\nLightning Deal! $233.64 - Gskyer Telescope, EQ901000 Astronomy Telescope, German Technology Refractor Telescope https://t.co/p04s598JM1\n\nLightning Deal! $168.98 - Autel MD802 Maxidiag Elite Full System and Live Data Multifunctional Scan Tool https://t.co/x0d8M7VXOX\n\nLightning Deal! $169.15 - MaXimus Life Pro Gym Rebounder Package Includes Compilation DVD and Handle Bar https://t.co/cKKfCYHUS5\n\nLightning Deal! [$199.00 - $228.65] - BESTVA Professional LED Grow Light https://t.co/th7N7ZTKDo\n\nLightning Deal! $126.64 - Laverapelle Men's Black Genuine Lambskin Leather Jacket - 1510535 https://t.co/CZwc2jJLEL\n\nLightning Deal! $229.04 - BabyKr Premium Silicone Baby Food Feeder, Happy Fresh Fruit Teething Toy Nibbler https://t.co/u5HYE1BpPv\n\nLightning Deal! $82.49 - Eyekepper Tall Brushed Nickel Bathroom Sink Vessel Faucet Mixer Tap https://t.co/FB0TwA0Wwe\n\nLightning Deal! [$115.58 - $169.99] - Litchi Stand Mixer 6-Speed Tilt-Head Food Stand Mixer 5.5Qt 650W https://t.co/bjNVLcxezp\n\nLightning Deal! [$159.00 - $234.00] - 0.11 ct Arrow Diamond Pendant Necklace 14K Gold (I,I1) Popular Quality https://t.co/0nSVYaGPrn\n\nLightning Deal! $99.99 - WheelWitness HD PRO Dash Cam with GPS - 2K Super HD - 170° Lens - 16GB microSD - Advanced D https://t.co/B0R7lTCqrD\n\nLightning Deal! [$373.99 - $424.99] - Monster Moto MM-B80 https://t.co/AzUi7qhEHN\n\nLightning Deal! $67.99 - 3D Abstract Metal Wall Art Sculpture Wave - Modern Home Décor by Jon Allen - 46.5\" x 6\" https://t.co/W5SwzYjkxm\n\nLightning Deal! $109.95 - Bulova Women's 98P124 Substantial Ceramic &amp; Stainless Steel Watch https://t.co/IaFICcHerr\n\nLightning Deal! $278.99 - Save Big on TiVo Bolt 500 GB and TiVo Mini Bundle https://t.co/TbFKbyOjlo\n\nLightning Deal! $233.64 - Gskyer Telescope, EQ901000 Astronomy Telescope, German Technology Refractor Telescope https://t.co/79uEqsUX7Z\n\nLightning Deal! [$117.00 - $450.49] - DEFEWAY SN Bullet Camera System https://t.co/Z485MvUfPc\n\nLightning Deal! $585.65 - VectoTech Rapid 2TB External SSD USB 3.0 Portable Solid State Drive https://t.co/UgyXC4mZpg\n\nLightning Deal! $126.64 - Laverapelle Men's Black Genuine Lambskin Leather Jacket - 1510210 https://t.co/qwESfAYQe6\n\nLightning Deal! $13.99 - Chef Knife 8 Inch, MIZOO Pro Chef's Knife High Carbon Stainless Steel Sharp Carving Knives https://t.co/Z73vpjcYBV\n\nLightning Deal! $20.99 - Vikston Airstream 1875W Professional Ionic Ceramic Hair Dryer (Coffee Espresso) https://t.co/3orB8NvyfA\n\nLightning Deal! [$679.14 - $934.15] - Autel Maxidas Diagnostic Tool And Touch Pen https://t.co/AYjolkCq0W\n\nLightning Deal! $249.95 - Tony Parker San Antonio Spurs Autographed Spalding Indoor https://t.co/yxs7uwmBBZ\n\nLightning Deal! $126.64 - Laverapelle Men's Black Genuine Lambskin Leather Jacket - 1510344 https://t.co/4Q30s1EOHC\n\nLightning Deal! $99.99 - Abba Patio 10 X 10 ft Outdoor Pop Up Portable Shade Tent Instant Canopy, Dark Grey https://t.co/3LVoXkc0EF\n\nLightning Deal! $233.64 - Gskyer Telescope, EQ901000 Astronomy Telescope, German Technology Refractor Telescope https://t.co/IEATbvglrM\n\nLightning Deal! $29.99 - Horizon 2.4GHz 4.5CH Camera RC Spy Drone https://t.co/a3Fpw7NX9f\n\nLightning Deal! $496.08 - RapidCycle Vamos Bike https://t.co/0AafrkvecF\n\nLightning Deal! [$679.14 - $1954.15] - Autel Automotive Vehicle Diagnostics and Analysis System https://t.co/nNRbLtdVjp\n\nLightning Deal! [$190.40 - $228.65] - AMAZ-PLAY Mini Projector https://t.co/dPsrXHF1Ik\n\nLightning Deal! $169.15 - UTK® Far Infrared Natural Jade&amp;Tourmaline Heating Pad for Pain Relief, Medium Pro (31''X21 https://t.co/TlNHICwvwC\n\nLightning Deal! [$66.29 - $178.49] - Nix Advance https://t.co/V65MHVhpm2\n\nLightning Deal! $59.49 - Gskyer Telescope, AZ50350 German Technology Telescope, Travel Refractor Telescope for Kids https://t.co/9wKCiXriZ5\n\nLightning Deal! [$679.14 - $1954.15] - Autel Automotive Vehicle Diagnostics and Analysis System https://t.co/ojQeQCsyr3\n\nLightning Deal! $239.99 - X-Treme Gate XG-001 Black Professional Grade Slide-Out Truck Bed Extender https://t.co/XzjQTxEOcg\n\nLightning Deal! [$21.24 - $228.77] - BabyKr Premium Baby Food Feeder, Cute Fresh Fruit Teething Toy Nibbler https://t.co/XVdEK7bkCw\n\nLightning Deal! $118.37 - Porpora Relaxing Sofa, Folding Futon Sofa and Comfortable Lounge Sofa https://t.co/fayq0LGUnf\n\nLightning Deal! $299.95 - Chris Davis Baltimore Orioles Autographed Majestic https://t.co/BmUVvPuXND\n\nLightning Deal! [$37.50 - $112.50] - 14k Solid Yellow &amp; White Gold Delicate Link Chain -18\" 20\" 22\" Inch https://t.co/Y2ZwbsxMHl\n\nLightning Deal! $127.49 - Soundcast Melody - Wireless Bluetooth Portable Indoor / Outdoor Weather Resistant Speaker https://t.co/NDI264Kmje\n\nLightning Deal! [$67.99 - $118.99] - Excelvan Photography Studio Lighting Set + Backgrounds (Black White Green ) https://t.co/ZtmlV7dTPy\n\nLightning Deal! [$150.69 - $212.49] - Nixplay Original https://t.co/mgCFQFW5W8\n\nLightning Deal! $112.49 - HaloCam C1 Plus Car Dash Cam FHD 1080P Car Cam WiFi Dashboard Camera with 170° Wide Angle  https://t.co/zYmVL4wfwd\n\nLightning Deal! $74.25 - 1/2 CTTW Sterling Silver White &amp; Brown Diamond ring https://t.co/3CHv4JAHIK\n\nLightning Deal! $739.26 - Composite Diamond in 14k White Engagement Ring (3/8cttw, H-I Color, I1 Clarity), Size 7 https://t.co/S2Dp3042Z4\n\nLightning Deal! [$190.40 - $228.65] - AMAZ-PLAY Mini Projector https://t.co/a3K1M48Vd8\n\nLightning Deal! $239.99 - X-Treme Gate XG-001 Black Professional Grade Slide-Out Truck Bed Extender https://t.co/Y0E0lkwuvp\n\nLightning Deal! $620.64 - Composite Diamond in 14k White Engagement Ring (1/2cttw, H-I Color, I2 Clarity), Size 7 https://t.co/sxDQfADeOx\n\nLightning Deal! [$67.99 - $118.99] - Excelvan Photography Studio Lighting Set + Backgrounds (Black White Green ) https://t.co/KbbMgco5FG\n\nLightning Deal! $177.16 - Gskyer Telescope, 600x90mm AZ Astronomical Refractor Telescope, German Technology Scope https://t.co/oKmcnR4ENR\n\nLightning Deal! $127.49 - Vantrue N2 1080P Dual Dash Cam Front and Back Near-360° https://t.co/zAIWspoltg\n\nLightning Deal! $1359.99 - Samsung Electronics UN65MU8500 Curved 65-Inch 4K Ultra HD Smart LED TV (2017 Model) https://t.co/7ijJH7Ykid\n\nLightning Deal! $37.49 - Bluedio A (Air) Stylish Wireless Bluetooth Headphones with Mic https://t.co/S52mieE8Bw\n\nLightning Deal! $28.04 - KimonoDeals Women's Soft Sleepwear Modal Cotton Wrap Robe, Long https://t.co/5d2naQbwgZ\n\nLightning Deal! $739.26 - Composite Diamond in 14k White Engagement Ring (3/8cttw, H-I Color, I1 Clarity), Size 7 https://t.co/hHS67wb0sH\n\nLightning Deal! $620.64 - Composite Diamond in 14k White Engagement Ring (1/2cttw, H-I Color, I2 Clarity), Size 7 https://t.co/ITaY3Vkn4m\n\nLightning Deal! $239.99 - X-Treme Gate XG-001 Black Professional Grade Slide-Out Truck Bed Extender https://t.co/VsYqd5Smwr\n\nLightning Deal! [$21.24 - $228.77] - BabyKr Premium Baby Food Feeder, Cute Fresh Fruit Teething Toy Nibbler https://t.co/XPiYm8OoED\n\nLightning Deal! $148.74 - AKG K 845BT Bluetooth Wireless On-Ear Headphones, Black https://t.co/9RLeHY47Iz\n\nLightning Deal! [$679.14 - $934.15] - Autel Maxidas Diagnostic Tool And Touch Pen https://t.co/Jox4P2CCRA\n\nLightning Deal! $159.95 - KDLINKS DX2 Full-HD 1080P Front + 720P Rear 290° Super Wide Angle Car Dash Cam with G-Sens https://t.co/z8TLjseeP5\n\nLightning Deal! $177.16 - Gskyer Telescope, 600x90mm AZ Astronomical Refractor Telescope, German Technology Scope https://t.co/ztqVyph238\n\nLightning Deal! [$19.99 - $53.99] - Naturo Nitro Creatine Chrome with Magnapower - Rapid Muscle Gain, Increased Mus https://t.co/Hzy1K0U7tz\n\nLightning Deal! $24.47 - Dr. Tobias Omega 3 Fish Oil Triple Strength, Burpless, Non-GMO, NSF-Certified, 180 Counts https://t.co/9XtTtqKWoV\n\nLightning Deal! $992.15 - Sindoh 3DWOX DP201 3D Printer https://t.co/Tjs2Vf3uPg\n\nLightning Deal! $739.26 - Composite Diamond in 14k White Engagement Ring (3/8cttw, H-I Color, I1 Clarity), Size 7 https://t.co/0kVxtUOYA9\n\nLightning Deal! $620.64 - Composite Diamond in 14k White Engagement Ring (1/2cttw, H-I Color, I2 Clarity), Size 7 https://t.co/reYu0VlWbS\n\nLightning Deal! $570.04 - Composite Diamond in 14k White Engagement Ring (3/8cttw, H-I Color, I2 Clarity), Size 7 https://t.co/fYbVWyXczM\n\nLightning Deal! $399.00 - Stamina Elite Wave Water Rowing Machine 1450 https://t.co/RIX4pKSnPg\n\nLightning Deal! $126.64 - Laverapelle Men's Black Genuine Lambskin Leather Jacket - 1510025 https://t.co/OAMnEbuxSc\n\nLightning Deal! [$152.99 - $169.99] - VECELO Dining Table with 4 Chairs - Silver https://t.co/MDiyYAwB92\n\nLightning Deal! $177.16 - Gskyer Telescope, 600x90mm AZ Astronomical Refractor Telescope, German Technology Scope https://t.co/jg4EA7X5qt\n\nLightning Deal! $679.99 - Samsung Electronics UN55MU6500 Curved 55-Inch 4K Ultra HD Smart LED TV (2017 Model) https://t.co/7vA1cJ1Ams\n\nLightning Deal! $169.99 - Cocopico N1 WVGA DLP Pico Pocket Projector 120 Lumens Build-in Android 4.4 RAM 1GB ROM 4GB https://t.co/2VmzshalRK\n\nLightning Deal! $126.64 - Laverapelle Men's Black Genuine Lambskin Leather Jacket - 1510474 https://t.co/nfIUyWG8ad\n\nLightning Deal! $620.64 - Composite Diamond in 14k White Engagement Ring (1/2cttw, H-I Color, I2 Clarity), Size 7 https://t.co/SDNIrH4M6j\n\nLightning Deal! $249.95 - Keenan Allen San Diego Chargers Autographed Riddell https://t.co/sd25kej5qC\n\nLightning Deal! $214.64 - Brian Urlacher Chicago Bears Autographed Mini Helmet - https://t.co/DnDINK6e7C\n\nLightning Deal! $739.26 - Composite Diamond in 14k White Engagement Ring (3/8cttw, H-I Color, I1 Clarity), Size 7 https://t.co/dWpWceOAk3\n\nLightning Deal! $570.04 - Composite Diamond in 14k White Engagement Ring (3/8cttw, H-I Color, I2 Clarity), Size 7 https://t.co/wL0rOKyALr\n\nLightning Deal! $37.99 - Mechanical Keyboard RGB Multicolor Backlit for Office and Gaming https://t.co/nEuvcJNLTK\n\nLightning Deal! [$17.99 - $19.99] - GemRed Digital Level Angle Slope https://t.co/CPeXS6Dfx3\n\nLightning Deal! $739.26 - Composite Diamond in 14k White Engagement Ring (3/8cttw, H-I Color, I1 Clarity), Size 7 https://t.co/MO6RWoXKUT\n\nLightning Deal! $620.64 - Composite Diamond in 14k White Engagement Ring (1/2cttw, H-I Color, I2 Clarity), Size 7 https://t.co/52bYukcJCO\n\nLightning Deal! $570.04 - Composite Diamond in 14k White Engagement Ring (3/8cttw, H-I Color, I2 Clarity), Size 7 https://t.co/mpwnMHjuHA\n\nLightning Deal! [$21.24 - $228.77] - BabyKr Premium Baby Food Feeder, Cute Fresh Fruit Teething Toy Nibbler https://t.co/RYR0tvE45e\n\nLightning Deal! $126.64 - Laverapelle Men's Black Genuine Lambskin Leather Jacket - 1510008 https://t.co/fwiHUMhoNb\n\nLightning Deal! $134.99 - Bluedio Vinyl Plus Light Extravagance Wireless Bluetooth Headphones https://t.co/3aGjZ9gghO\n\nLightning Deal! $177.16 - Gskyer Telescope, 600x90mm AZ Astronomical Refractor Telescope, German Technology Scope https://t.co/4AE5lw6Eth\n\nLightning Deal! [$212.00 - $322.99] - YI 4K Action Camera Kit https://t.co/0J7vuvZq90\n\nLightning Deal! $39.15 - Cowin E-7 Active Noise Cancelling Wireless Bluetooth Over-ear Stereo Headphones - Black https://t.co/e52ggbp02k\n\nLightning Deal! $739.26 - Composite Diamond in 14k White Engagement Ring (3/8cttw, H-I Color, I1 Clarity), Size 7 https://t.co/U59KYn3SEe\n\nLightning Deal! $620.64 - Composite Diamond in 14k White Engagement Ring (1/2cttw, H-I Color, I2 Clarity), Size 7 https://t.co/zIXTWGREDD\n\nLightning Deal! $570.04 - Composite Diamond in 14k White Engagement Ring (3/8cttw, H-I Color, I2 Clarity), Size 7 https://t.co/yIZHPGGYab\n\nLightning Deal! $479.99 - Silverback 54 In-Ground Basketball System with Tempered Glass Backboard https://t.co/Acm2B58wT0\n\nLightning Deal! [$24.64 - $217.51] - STEELMATE® Round Display ET-710AE Accurate Real-time Monitoring TPMS With Large https://t.co/6yOVoEqS5D\n\nLightning Deal! $1257.42 - RapidCycle Crixus 3x10SP Shimano Deore Shadow Aluminum Hard Tail 29\" Wheel Mountain Bike https://t.co/6v4WwxyGKy\n\nLightning Deal! $39.15 - Cowin E-7 Active Noise Cancelling Wireless Bluetooth Over-ear Stereo Headphones - Black https://t.co/N9Qh9fgn87\n\nLightning Deal! $55.00 - Aduro Altitude StealthBlazer Drone w/ HD Camera to take picture &amp; record 360° 3D Flips –  https://t.co/5KY8WX5WSC\n\nLightning Deal! $67.95 - iReliev TENS and EMS Combination Unit Muscle Stimulator for Pain Relief https://t.co/iy8xmJFDwo\n\nLightning Deal! $739.26 - Composite Diamond in 14k White Engagement Ring (3/8cttw, H-I Color, I1 Clarity), Size 7 https://t.co/3WOMid8QlX\n\nLightning Deal! $620.64 - Composite Diamond in 14k White Engagement Ring (1/2cttw, H-I Color, I2 Clarity), Size 7 https://t.co/97SuPdjEmK\n\nLightning Deal! $570.04 - Composite Diamond in 14k White Engagement Ring (3/8cttw, H-I Color, I2 Clarity), Size 7 https://t.co/pgvJU4x6Ih\n\nLightning Deal! $233.64 - Gskyer Telescope, EQ901000 Astronomy Telescope, German Technology Refractor Telescope https://t.co/loZDV4Rf8m\n\nLightning Deal! [$190.40 - $228.65] - AMAZ-PLAY Mini Projector https://t.co/N3IC8eGz3k\n\nLightning Deal! $220.50 - A Series Parent https://t.co/O8NvZGJcg1\n\nLightning Deal! [$97.50 - $206.25] - 14K Gold Black Diamond Stud Earrings Round Cut Three Prong Setting (AAA) https://t.co/fze6mI7ciz\n\nLightning Deal! $339.00 - Bulova Men's Stainless Steel Automatic Watch (Model: 65B153) https://t.co/5FV368a20m\n\nLightning Deal! [$67.99 - $89.24] - Excelvan Photography Studio Lighting Set + Backgrounds (Black White Green ) https://t.co/zv2pE0BYxo\n\nLightning Deal! [$114.75 - $1274.15] - FOXWELL Automotive OBDII Diagnoctic Tool https://t.co/FSEHvbBxQE\n\nLightning Deal! $119.99 - Dynasty Toys Laser Tag Set and Carrying Case for Kids Multiplayer 4 Pack https://t.co/pMpvK9zFJl\n\nLightning Deal! $739.26 - Composite Diamond in 14k White Engagement Ring (3/8cttw, H-I Color, I1 Clarity), Size 7 https://t.co/v4YyCsbQOq\n\nLightning Deal! $620.64 - Composite Diamond in 14k White Engagement Ring (1/2cttw, H-I Color, I2 Clarity), Size 7 https://t.co/AU66VfQwlh\n\nLightning Deal! [$15.29 - $322.27] - MonarchPuff Car Phone Mount Holder https://t.co/q7IO5PyQOh\n\nLightning Deal! $74.00 - Wittnauer Mens WN3049 30mm Stainless Steel Silver Watch Bracelet https://t.co/jBQUeF24WA\n\nLightning Deal! $5029.49 - Oakland Living 11 Piece Vanguard Aluminum Dining Set, Aged Black https://t.co/o6BQT1zCWU\n\nLightning Deal! $570.04 - Composite Diamond in 14k White Engagement Ring (3/8cttw, H-I Color, I2 Clarity), Size 7 https://t.co/ys7UPShTU9\n\nLightning Deal! $82.00 - Seiko Women's SUT168 Analog Display Japanese Quartz Gold Watch https://t.co/OMhYA4G2fN\n\nLightning Deal! $65.00 - 3D Abstract Metal Wall Art Sculpture Wave - Modern Home Décor by Jon Allen - 46.5\" x 6\" https://t.co/oX7gssI2TL\n\nLightning Deal! $74.09 - FalconZero F170HD+ DashCam 1080P 170° Viewing Angle microSD Card Included FULL HD https://t.co/AdmlbLYKap\n\nLightning Deal! $1274.99 - Oakland Living Berkley 5-Piece Set with 46-Inch Round Table and 4 Cushioned Chairs https://t.co/mAF8he2acm\n\nLightning Deal! $255.00 - 14k Round Diamond White Gold Miracle Stud Earrings (1/2cttw, J-K Color, I2-I3 Clarity) https://t.co/54MygacjLW\n\nLightning Deal! $739.26 - Composite Diamond in 14k White Engagement Ring (3/8cttw, H-I Color, I1 Clarity), Size 7 https://t.co/sqJkmZrzWo\n\nLightning Deal! $620.64 - Composite Diamond in 14k White Engagement Ring (1/2cttw, H-I Color, I2 Clarity), Size 7 https://t.co/l38UQ4yyiK\n\nLightning Deal! [$46.99 - $119.99] - Autofeel Triple Row 12\" Led Light Bar ?- ¡­ https://t.co/6toOEAhUbd\n\nLightning Deal! $233.64 - Gskyer Telescope, EQ901000 Astronomy Telescope, German Technology Refractor Telescope https://t.co/c16BrQ6EtZ\n\nLightning Deal! [$236.69 - $415.02] - Sunrising Bedding 12 Inch Ultimate Comfort Memory Foam Mattress Plush,Queen https://t.co/jjkGtsHZ9M\n\nLightning Deal! [$92.25 - $181.50] - 14K Gold Diamond Stud Earrings Tiny Second Hole Baby/Kids (G,VS) https://t.co/9IRq3vf7IN\n\nLightning Deal! $67.99 - Hammer Anvil Carepa Leather Backpack Large Versatile Use Daily For Travel Black https://t.co/j9L8wbB9Tc\n\nLightning Deal! [$6.88 - $8.88] - Hughapy® Handmade Soft Crochet Sea Mermaid Tail Blanket for Teen/ Adult https://t.co/EXqkgzi66P\n\nLightning Deal! [$15.29 - $322.27] - MonarchPuff Car Phone Mount Holder https://t.co/NghaoVIQvD\n\nLightning Deal! $177.16 - Gskyer Telescope, 600x90mm AZ Astronomical Refractor Telescope, German Technology Scope https://t.co/B7JOY20OU6\n\nLightning Deal! [$662.99 - $1921.00] - Autel Automotive Vehicle Diagnostics and Analysis System https://t.co/jH475zBqsL\n\nLightning Deal! $233.64 - Gskyer Telescope, EQ901000 Astronomy Telescope, German Technology Refractor Telescope https://t.co/p26USjb6iU\n\nLightning Deal! $89.00 - Victorinox Swiss Army Watch 241513 https://t.co/RsLRd3miTB\n\nLightning Deal! $185.00 - Bulova Accu Swiss Men's 63B184 Mechanical Hand Wind Black  Strap Watch https://t.co/zvJv6hBA1Z\n\nLightning Deal! [$16.99 - $19.39] - Limee 1500W 1.7L Cordless Electric Jug Kettle with 2 Year Warranty https://t.co/ndItJx0CHH\n\nLightning Deal! $79.99 - Excelvan K28 Dual Wireless Bluetooth Microphones with Receiver Box https://t.co/ndWm7k9Mvu\n\nLightning Deal! $42.49 - HDTV Antenna-SOBETTER Amplified Digital TV Antenna 150 Miles Range 360° Rotation Outdoor Di https://t.co/y8zN3czRvr\n\nLightning Deal! $59.49 - Gskyer Telescope, AZ50350 German Technology Telescope, Travel Refractor Telescope for Kids https://t.co/kb12pDtNyP\n\nLightning Deal! $127.49 - Duxtop Professional Stainless Steel Cookware Set Impact-bonded Technology 10-pc Set https://t.co/aTUpR6wCaQ\n\nLightning Deal! $159.00 - RIVA TURBO X RTX01B Premium Wireless Bluetooth Speaker (Black) https://t.co/PoXBGXcNp9\n\nLightning Deal! $233.64 - Gskyer Telescope, EQ901000 Astronomy Telescope, German Technology Refractor Telescope https://t.co/iqE3pqH5Xw\n\nLightning Deal! [$15.29 - $322.27] - MonarchPuff Car Phone Mount Holder https://t.co/Q5vGTcoaGh\n\nLightning Deal! [$66.29 - $178.49] - Nix Advance https://t.co/8uYly41jha\n\nLightning Deal! [$169.95 - $195.49] - Noontec-TerraMaster Direct Attached RAID Storage Unit https://t.co/NO3cDuSF8f\n\nLightning Deal! [$16.95 - $22.95] - UltraPlush Premium Waterproof Mattress Protector - Super Soft Quiet Cover https://t.co/E7IaDWHlpc\n\nLightning Deal! $75.54 - Kitchener Stainless Steel Manual Mixer, 4.2-Gal, 20-lbs Capacity https://t.co/jvIfgERLqa\n\nLightning Deal! $687.99 - Lenovo Flex 5 2-in-1 Laptop, 15.6 (80XB000JUS) https://t.co/X5mxqvCMHS\n\nLightning Deal! [$15.29 - $322.27] - MonarchPuff Car Phone Mount Holder https://t.co/JJ5dzWvsyB\n\nLightning Deal! [$679.14 - $934.15] - Autel Maxidas Diagnostic Tool And Touch Pen https://t.co/oLpltmqnOk\n\nLightning Deal! $109.00 - Bulova Men's Accutron II Surveyor Watch https://t.co/8q9tqs6rde\n\nLightning Deal! $79.99 - Bluedio U (UFO) Premium PPS 8 Drivers Bluetooth Wireless Headphone with Mic (Black and Red) https://t.co/orlxJx5351\n\nLightning Deal! $159.95 - KDLINKS R100 Ultra HD 1296P Front + 1080P Rear 280° Wide Angle Anti-Glare Rearview Mirror  https://t.co/t9UhI69QP9\n\n"
     ]
    }
   ],
   "source": [
    "import re\n",
    "for tweet in timeline:\n",
    "    deal = tweet['text']\n",
    "    print(deal + '\\n')\n"
   ]
  },
  {
   "cell_type": "code",
   "execution_count": 431,
   "metadata": {},
   "outputs": [],
   "source": [
    "import re\n",
    "import pymysql\n",
    "\n",
    "cnx = pymysql.connect(user='root', password='1234',\n",
    "                              host='127.0.0.1',\n",
    "                              database='healthhub')\n",
    "cursor = cnx.cursor()\n",
    "\n",
    "query = (\"SELECT id FROM product\")\n",
    "cursor.execute(query)\n",
    "\n",
    "\n",
    "dealMatchGauranteed=[]\n",
    "for product in cursor:\n",
    "    for tweet in timeline:\n",
    "        deal = (tweet['text'])\n",
    "        if (len(re.findall('\\s'+product[0]+'\\s',deal)) >= 1):\n",
    "            dealMatchGauranteed = dealMatchGauranteed + [deal]\n",
    "        "
   ]
  },
  {
   "cell_type": "code",
   "execution_count": 432,
   "metadata": {
    "scrolled": true
   },
   "outputs": [
    {
     "output_type": "execute_result",
     "data": {
      "text/plain": [
       "['Lightning Deal! $20.99 - Vikston Airstream 1875W Professional Ionic Ceramic Hair Dryer (Coffee Espresso) https://t.co/3orB8NvyfA',\n",
       " 'Lightning Deal! $76.82 - Predire Golden Magnetic Mud Mask Rich Collagen &amp; Oxygen Booster 50ML https://t.co/xN06DZaeMv']"
      ]
     },
     "metadata": {},
     "execution_count": 432
    }
   ],
   "source": [
    "# Sanity Test that  we got some deals\n",
    "dealMatchGauranteed[:5]"
   ]
  },
  {
   "cell_type": "code",
   "execution_count": 433,
   "metadata": {},
   "outputs": [],
   "source": [
    "dealMatchFile = open(r'C:\\Users\\uee85\\CSP584HealthHub\\WebContent\\data\\DealMatches.txt', 'w', encoding='utf-8')\n",
    "for deal in dealMatchGauranteed:\n",
    "    dealMatchFile.write(\"%s\\n\" % deal)\n",
    "\n",
    "dealMatchFile.close()"
   ]
  },
  {
   "cell_type": "code",
   "execution_count": null,
   "metadata": {},
   "outputs": [],
   "source": []
  }
 ],
 "metadata": {
  "anaconda-cloud": {},
  "celltoolbar": "Raw Cell Format",
  "kernelspec": {
   "display_name": "Python 3",
   "language": "python",
   "name": "python3"
  },
  "language_info": {
   "codemirror_mode": {
    "name": "ipython",
    "version": 3
   },
   "file_extension": ".py",
   "mimetype": "text/x-python",
   "name": "python",
   "nbconvert_exporter": "python",
   "pygments_lexer": "ipython3",
   "version": "3.7.6-final"
  }
 },
 "nbformat": 4,
 "nbformat_minor": 1
}
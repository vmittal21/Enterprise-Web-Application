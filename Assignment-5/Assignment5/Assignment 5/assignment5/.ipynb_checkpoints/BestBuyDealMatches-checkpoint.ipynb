{
 "cells": [
  {
   "cell_type": "markdown",
   "metadata": {},
   "source": [
    "### Objective"
   ]
  },
  {
   "cell_type": "raw",
   "metadata": {
    "raw_mimetype": "text/x-python"
   },
   "source": [
    "\n",
    "Learn how to connect to social media network (we will use Twitter as example in this assignment), and collect/preprocess/analyze its data\n",
    "\n",
    "\n",
    "Tweets Data Can be used for different purposes by marketing department and data analytics team. For example:\n",
    "\n",
    "- Compete with rivals to offer price-match gaurantee policy\n",
    "- Offer same coupons like rivals in the market place\n",
    "\n"
   ]
  },
  {
   "cell_type": "markdown",
   "metadata": {},
   "source": [
    "### Installation and Setup"
   ]
  },
  {
   "cell_type": "raw",
   "metadata": {},
   "source": [
    "For this assignment you need to do the following setup first:\n",
    "\n",
    "1.  Create an account on twitter.com.\n",
    "\n",
    "2.  Generate authentication tokens by following the instructions here : \n",
    "    https://dev.twitter.com/oauth/overview/application-owner-access-tokens\n",
    "\n",
    "3.  Add your tokens to the credentials.txt file.\n",
    "\n",
    "\n"
   ]
  },
  {
   "cell_type": "markdown",
   "metadata": {},
   "source": [
    "### Twitter API"
   ]
  },
  {
   "cell_type": "raw",
   "metadata": {},
   "source": [
    "Twitter API\n",
    "\n",
    "Two APIs:\n",
    "\n",
    "    REST API: Submit HTTP requests to access specific information (tweets, friends, ...)\n",
    "    Streaming API: Open a continuous connection to Twitter to receive real-time data.\n",
    "\n",
    "These APIs are  HTTP GET request\n",
    "\n",
    "\n",
    "\n",
    "\n",
    "Here are the twitter API docs that you must familiarize yourself with\n",
    "\n",
    "https://dev.twitter.com/rest/reference/get/followers/ids\n",
    "\n",
    "https://dev.twitter.com/overview/api/twitter-libraries\n",
    "\n"
   ]
  },
  {
   "cell_type": "raw",
   "metadata": {},
   "source": [
    "When you search in a text (tweets are text messages), often you need to be aware of something STOP WORDS.\n",
    "You could read more about stop-words here:\n",
    " \n",
    "    https://en.wikipedia.org/wiki/Stop_words\n",
    "    "
   ]
  },
  {
   "cell_type": "markdown",
   "metadata": {},
   "source": [
    "# Lets create twitter object and use its API. Code snippets below will show you how to use this API"
   ]
  },
  {
   "cell_type": "code",
   "execution_count": 3,
   "metadata": {},
   "outputs": [],
   "source": [
    "from TwitterAPI import TwitterAPI, TwitterOAuth, TwitterPager\n"
   ]
  },
  {
   "cell_type": "code",
   "execution_count": 4,
   "metadata": {},
   "outputs": [
    {
     "ename": "FileNotFoundError",
     "evalue": "[Errno 2] No such file or directory: 'C:\\\\apache-tomcat-7.0.34\\\\webapps\\\\Tutorial_6\\\\credentials.txt'",
     "output_type": "error",
     "traceback": [
      "\u001b[1;31m---------------------------------------------------------------------------\u001b[0m",
      "\u001b[1;31mFileNotFoundError\u001b[0m                         Traceback (most recent call last)",
      "\u001b[1;32m<ipython-input-4-223f01cf0cc5>\u001b[0m in \u001b[0;36m<module>\u001b[1;34m\u001b[0m\n\u001b[1;32m----> 1\u001b[1;33m \u001b[0mo\u001b[0m \u001b[1;33m=\u001b[0m \u001b[0mTwitterOAuth\u001b[0m\u001b[1;33m.\u001b[0m\u001b[0mread_file\u001b[0m\u001b[1;33m(\u001b[0m\u001b[1;34mr'C:\\apache-tomcat-7.0.34\\webapps\\Tutorial_6\\credentials.txt'\u001b[0m\u001b[1;33m)\u001b[0m\u001b[1;33m\u001b[0m\u001b[1;33m\u001b[0m\u001b[0m\n\u001b[0m",
      "\u001b[1;32mc:\\users\\vidhi mittal\\appdata\\local\\programs\\python\\python38\\lib\\site-packages\\TwitterAPI\\TwitterOAuth.py\u001b[0m in \u001b[0;36mread_file\u001b[1;34m(cls, file_name)\u001b[0m\n\u001b[0;32m     47\u001b[0m             \u001b[0mfile_name\u001b[0m \u001b[1;33m=\u001b[0m \u001b[0mos\u001b[0m\u001b[1;33m.\u001b[0m\u001b[0mpath\u001b[0m\u001b[1;33m.\u001b[0m\u001b[0mjoin\u001b[0m\u001b[1;33m(\u001b[0m\u001b[0mpath\u001b[0m\u001b[1;33m,\u001b[0m \u001b[1;34m'credentials.txt'\u001b[0m\u001b[1;33m)\u001b[0m\u001b[1;33m\u001b[0m\u001b[1;33m\u001b[0m\u001b[0m\n\u001b[0;32m     48\u001b[0m \u001b[1;33m\u001b[0m\u001b[0m\n\u001b[1;32m---> 49\u001b[1;33m         \u001b[1;32mwith\u001b[0m \u001b[0mopen\u001b[0m\u001b[1;33m(\u001b[0m\u001b[0mfile_name\u001b[0m\u001b[1;33m)\u001b[0m \u001b[1;32mas\u001b[0m \u001b[0mf\u001b[0m\u001b[1;33m:\u001b[0m\u001b[1;33m\u001b[0m\u001b[1;33m\u001b[0m\u001b[0m\n\u001b[0m\u001b[0;32m     50\u001b[0m             \u001b[0moauth\u001b[0m \u001b[1;33m=\u001b[0m \u001b[1;33m{\u001b[0m\u001b[1;33m}\u001b[0m\u001b[1;33m\u001b[0m\u001b[1;33m\u001b[0m\u001b[0m\n\u001b[0;32m     51\u001b[0m             \u001b[1;32mfor\u001b[0m \u001b[0mline\u001b[0m \u001b[1;32min\u001b[0m \u001b[0mf\u001b[0m\u001b[1;33m:\u001b[0m\u001b[1;33m\u001b[0m\u001b[1;33m\u001b[0m\u001b[0m\n",
      "\u001b[1;31mFileNotFoundError\u001b[0m: [Errno 2] No such file or directory: 'C:\\\\apache-tomcat-7.0.34\\\\webapps\\\\Tutorial_6\\\\credentials.txt'"
     ]
    }
   ],
   "source": [
    "o = TwitterOAuth.read_file(r'C:\\apache-tomcat-7.0.34\\webapps\\Tutorial_6\\credentials.txt')"
   ]
  },
  {
   "cell_type": "code",
   "execution_count": null,
   "metadata": {},
   "outputs": [],
   "source": [
    "o.access_token_key"
   ]
  },
  {
   "cell_type": "code",
   "execution_count": null,
   "metadata": {},
   "outputs": [],
   "source": [
    "# Using OAuth1...\n",
    "twitter = TwitterAPI(o.consumer_key,\n",
    "                 o.consumer_secret,\n",
    "                 o.access_token_key,\n",
    "                 o.access_token_secret)"
   ]
  },
  {
   "cell_type": "code",
   "execution_count": null,
   "metadata": {
    "scrolled": true
   },
   "outputs": [],
   "source": [
    "help(twitter)"
   ]
  },
  {
   "cell_type": "code",
   "execution_count": null,
   "metadata": {},
   "outputs": [],
   "source": [
    "# What can we do with this twitter object?\n",
    "# builtin method `dir` tells us...\n",
    "dir(twitter)"
   ]
  },
  {
   "cell_type": "code",
   "execution_count": null,
   "metadata": {},
   "outputs": [],
   "source": [
    "twitter.auth"
   ]
  },
  {
   "cell_type": "code",
   "execution_count": null,
   "metadata": {},
   "outputs": [],
   "source": [
    "# Get help on the `request` method using the builtin method called...`help`\n",
    "help(twitter.request)"
   ]
  },
  {
   "cell_type": "code",
   "execution_count": null,
   "metadata": {},
   "outputs": [],
   "source": [
    "# Let's start by querying the search API\n",
    "response = twitter.request('search/tweets', {'q': 'big+data'}) "
   ]
  },
  {
   "cell_type": "code",
   "execution_count": null,
   "metadata": {},
   "outputs": [],
   "source": [
    "# What object is returned?\n",
    "# builtin type method will tell us.\n",
    "print(type(response))\n",
    "dir(response)"
   ]
  },
  {
   "cell_type": "code",
   "execution_count": null,
   "metadata": {},
   "outputs": [],
   "source": [
    "response.json"
   ]
  },
  {
   "cell_type": "code",
   "execution_count": null,
   "metadata": {},
   "outputs": [],
   "source": [
    "response.status_code\n",
    "# See https://dev.twitter.com/overview/api/response-codes"
   ]
  },
  {
   "cell_type": "code",
   "execution_count": null,
   "metadata": {},
   "outputs": [],
   "source": [
    "tweets = [r for r in response]"
   ]
  },
  {
   "cell_type": "code",
   "execution_count": null,
   "metadata": {},
   "outputs": [],
   "source": [
    "print('found %d tweets' % len(tweets))"
   ]
  },
  {
   "cell_type": "code",
   "execution_count": null,
   "metadata": {},
   "outputs": [],
   "source": [
    "type(tweets)"
   ]
  },
  {
   "cell_type": "code",
   "execution_count": null,
   "metadata": {},
   "outputs": [],
   "source": [
    "type(tweets[0])"
   ]
  },
  {
   "cell_type": "code",
   "execution_count": null,
   "metadata": {},
   "outputs": [],
   "source": [
    "tweets[0]"
   ]
  },
  {
   "cell_type": "code",
   "execution_count": 5,
   "metadata": {},
   "outputs": [
    {
     "ename": "NameError",
     "evalue": "name 'tweets' is not defined",
     "output_type": "error",
     "traceback": [
      "\u001b[1;31m---------------------------------------------------------------------------\u001b[0m",
      "\u001b[1;31mNameError\u001b[0m                                 Traceback (most recent call last)",
      "\u001b[1;32m<ipython-input-5-5d75120c6864>\u001b[0m in \u001b[0;36m<module>\u001b[1;34m\u001b[0m\n\u001b[1;32m----> 1\u001b[1;33m \u001b[0mhelp\u001b[0m\u001b[1;33m(\u001b[0m\u001b[0mtweets\u001b[0m\u001b[1;33m[\u001b[0m\u001b[1;36m0\u001b[0m\u001b[1;33m]\u001b[0m\u001b[1;33m)\u001b[0m\u001b[1;33m\u001b[0m\u001b[1;33m\u001b[0m\u001b[0m\n\u001b[0m",
      "\u001b[1;31mNameError\u001b[0m: name 'tweets' is not defined"
     ]
    }
   ],
   "source": [
    "help(tweets[0])"
   ]
  },
  {
   "cell_type": "code",
   "execution_count": null,
   "metadata": {},
   "outputs": [],
   "source": [
    "tweets[0].keys()"
   ]
  },
  {
   "cell_type": "code",
   "execution_count": null,
   "metadata": {},
   "outputs": [],
   "source": [
    "tweets[0]['text']"
   ]
  },
  {
   "cell_type": "code",
   "execution_count": null,
   "metadata": {},
   "outputs": [],
   "source": [
    "tweets[0]['created_at']"
   ]
  },
  {
   "cell_type": "code",
   "execution_count": null,
   "metadata": {},
   "outputs": [],
   "source": [
    "tweets[0]['text']"
   ]
  },
  {
   "cell_type": "code",
   "execution_count": null,
   "metadata": {},
   "outputs": [],
   "source": [
    "tweets[0]['user']"
   ]
  },
  {
   "cell_type": "code",
   "execution_count": null,
   "metadata": {},
   "outputs": [],
   "source": [
    "user = tweets[0]['user']\n",
    "print('screen_name=%s, name=%s, location=%s' % (user['screen_name'], user['name'], user['location']))"
   ]
  },
  {
   "cell_type": "code",
   "execution_count": null,
   "metadata": {},
   "outputs": [],
   "source": [
    "# Who follows this person?\n",
    "# https://dev.twitter.com/docs/api/1.1/get/followers/list\n",
    "screen_name = user['screen_name']\n",
    "response  = twitter.request('followers/list', {'screen_name': screen_name, 'count':200})\n",
    "followers = [follower for follower in response]\n",
    "        \n",
    "print('found %d followers for %s' % (len(followers), screen_name))\n",
    "# See more about paging here: https://dev.twitter.com/docs/working-with-timelines"
   ]
  },
  {
   "cell_type": "code",
   "execution_count": null,
   "metadata": {},
   "outputs": [],
   "source": [
    "print(followers[0]['screen_name'])"
   ]
  },
  {
   "cell_type": "markdown",
   "metadata": {},
   "source": [
    "##  Limitations:       Can only search 2 weeks in past         But can get up to 3,200 most recent tweets of a user     Rate limits! https://dev.twitter.com/docs/rate-limiting/1.1/limits         e.g., 180 requests in 15 minute window "
   ]
  },
  {
   "cell_type": "markdown",
   "metadata": {},
   "source": [
    "# Get BestBuy timeline for the deals screen-name\n",
    "\n",
    "# This is the screen name for BestBuy_Deals"
   ]
  },
  {
   "cell_type": "code",
   "execution_count": null,
   "metadata": {},
   "outputs": [],
   "source": [
    "# Get BestBuyDeals timeline = ''\n",
    "screen_name = 'BestBuy_Deals'\n",
    "timeline = [tweet for tweet in twitter.request('statuses/user_timeline',\n",
    "                                                {'screen_name': screen_name,\n",
    "                                                 'count': 200})]\n",
    "print('got %d tweets for user %s' % (len(timeline), screen_name))"
   ]
  },
  {
   "cell_type": "code",
   "execution_count": null,
   "metadata": {},
   "outputs": [],
   "source": [
    "# Print time got created.\n",
    "\n",
    "timeline[3]['created_at']"
   ]
  },
  {
   "cell_type": "code",
   "execution_count": null,
   "metadata": {
    "scrolled": true
   },
   "outputs": [],
   "source": [
    "# Print the text.\n",
    "print('\\n\\n\\n'.join(t['text'] for t in timeline))"
   ]
  },
  {
   "cell_type": "code",
   "execution_count": null,
   "metadata": {},
   "outputs": [],
   "source": [
    "# Count words\n",
    "from collections import Counter  # This is just a fancy dict mapping from object->int, starting at 0.\n",
    "counts = Counter()\n",
    "for tweet in timeline:\n",
    "    counts.update(tweet['text'].lower().split())\n",
    "print('found %d unique terms in %d tweets' % (len(counts), len(timeline)))\n",
    "counts.most_common(10)"
   ]
  },
  {
   "cell_type": "code",
   "execution_count": null,
   "metadata": {},
   "outputs": [],
   "source": [
    "import re\n",
    "for tweet in timeline:\n",
    "    deal = tweet['text']\n",
    "    print(deal + '\\n')\n"
   ]
  },
  {
   "cell_type": "markdown",
   "metadata": {},
   "source": [
    "# Find  the deals in the BestBuy_Deal tweets  that match products in SmartPortables MySQL product table"
   ]
  },
  {
   "cell_type": "code",
   "execution_count": null,
   "metadata": {},
   "outputs": [],
   "source": [
    "import re\n",
    "import pymysql\n",
    "\n",
    "cnx = pymysql.connect(user='root', password='root',\n",
    "                              host='127.0.0.1',\n",
    "                              database='exampledatabase')\n",
    "cursor = cnx.cursor()\n",
    "\n",
    "query = (\"SELECT id FROM ProductDetails\")\n",
    "cursor.execute(query)\n",
    "\n",
    "\n",
    "dealMatchGauranteed=[]\n",
    "for product in cursor:\n",
    "    for tweet in timeline:\n",
    "        deal = (tweet['text'])\n",
    "        if (len(re.findall('\\s'+product[0]+'\\s',deal)) >= 1):\n",
    "            dealMatchGauranteed = dealMatchGauranteed + [deal]\n",
    "        "
   ]
  },
  {
   "cell_type": "code",
   "execution_count": null,
   "metadata": {
    "scrolled": true
   },
   "outputs": [],
   "source": [
    "# Sanity Test that  we got some deals\n",
    "dealMatchGauranteed[:5]"
   ]
  },
  {
   "cell_type": "markdown",
   "metadata": {},
   "source": [
    "# Create and write the deals into DealMatches.txt file that will be used by web-app of SmartPortables to display two deal matches"
   ]
  },
  {
   "cell_type": "code",
   "execution_count": null,
   "metadata": {},
   "outputs": [],
   "source": [
    "dealMatchFile = open(r'C:\\apache-tomcat-7.0.34\\webapps\\Tutorial_6\\DealMatches.txt', 'w')\n",
    "for deal in dealMatchGauranteed:\n",
    "    dealMatchFile.write(\"%s\\n\" % deal)\n",
    "\n",
    "dealMatchFile.close()"
   ]
  },
  {
   "cell_type": "code",
   "execution_count": null,
   "metadata": {},
   "outputs": [],
   "source": []
  },
  {
   "cell_type": "code",
   "execution_count": null,
   "metadata": {},
   "outputs": [],
   "source": []
  }
 ],
 "metadata": {
  "anaconda-cloud": {},
  "celltoolbar": "Raw Cell Format",
  "kernelspec": {
   "display_name": "Python 3",
   "language": "python",
   "name": "python3"
  },
  "language_info": {
   "codemirror_mode": {
    "name": "ipython",
    "version": 3
   },
   "file_extension": ".py",
   "mimetype": "text/x-python",
   "name": "python",
   "nbconvert_exporter": "python",
   "pygments_lexer": "ipython3",
   "version": "3.8.2"
  }
 },
 "nbformat": 4,
 "nbformat_minor": 1
}
